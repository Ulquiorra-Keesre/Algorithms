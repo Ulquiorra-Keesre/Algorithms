{
 "cells": [
  {
   "cell_type": "markdown",
   "id": "fifteen-sailing",
   "metadata": {
    "id": "fifteen-sailing"
   },
   "source": [
    "# Лабораторная работа №2\n",
    "## Выполнил студент группы Синюк Максим Павлович БПИ2301"
   ]
  },
  {
   "cell_type": "markdown",
   "id": "arctic-stocks",
   "metadata": {
    "id": "arctic-stocks"
   },
   "source": [
    "Реализовать следующие структуры данных:\n",
    "  \n",
    "● <b> Стек (stack): </b>  \n",
    "Операции для стека:\n",
    "<i> инициализация, проверка на пустоту, добавление нового элемента в начало, извлечение элемента из начала;  </i>  \n",
    "  \n",
    "● <b> Дек (двусторонняя очередь, deque):  </b>  \n",
    "Операции для дека:\n",
    "<i> инициализация, проверка на пустоту, добавление нового элемента в начало, добавление нового элемента в конец, извлечение элемента из начала, извлечение элемента из конца. </i>  \n",
    "  \n",
    "<i> Разработать программу обработки данных, содержащихся в заранее подготовленном txt-файле, в соответствии с заданиями, применив указанную в задании структуру данных. Результат работы программы вывести на экран и сохранить в отдельном txt-файле. </i>"
   ]
  },
  {
   "cell_type": "markdown",
   "id": "5d7edb08",
   "metadata": {
    "id": "5d7edb08",
    "scrolled": true
   },
   "source": [
    "### Задание №1\n",
    "Отсортировать строки файла, содержащие названия книг, в алфавитном порядке с использованием двух деков."
   ]
  },
  {
   "cell_type": "code",
   "execution_count": 71,
   "id": "17702ade",
   "metadata": {
    "id": "17702ade"
   },
   "outputs": [
    {
     "name": "stdout",
     "output_type": "stream",
     "text": [
      "ave\n",
      "bark\n",
      "giga\n",
      "level\n"
     ]
    }
   ],
   "source": [
    "class Stack:\n",
    "    def __init__(self, name):\n",
    "        self.items = []\n",
    "        self.name = name\n",
    "    \n",
    "    def is_empty(self):\n",
    "        return len(self.items) == 0\n",
    "    \n",
    "    def push(self, item):\n",
    "        self.items.append(item)\n",
    "    \n",
    "    def pop(self):\n",
    "        if not self.is_empty():\n",
    "            return self.items.pop()\n",
    "        return None\n",
    "\n",
    "    def __str__(self):\n",
    "        return f\"{self.name}: {self.items}\"\n",
    "\n",
    "    def get_items(self):\n",
    "        return self.items\n",
    "\n",
    "class Deque:\n",
    "    def __init__(self):\n",
    "        self.items = []\n",
    "    \n",
    "    def is_empty(self):\n",
    "        return len(self.items) == 0\n",
    "    \n",
    "    def add_front(self, item):\n",
    "        self.items.insert(0, item)\n",
    "    \n",
    "    def add_rear(self, item):\n",
    "        self.items.append(item)\n",
    "    \n",
    "    def remove_front(self):\n",
    "        if not self.is_empty():\n",
    "            return self.items.pop(0)\n",
    "        return None\n",
    "    \n",
    "    def remove_rear(self):\n",
    "        if not self.is_empty():\n",
    "            return self.items.pop()\n",
    "        return None\n",
    "\n",
    "    def get_items(self):\n",
    "        return self.items\n",
    "\n",
    "def sort_books(input_file, output_file):\n",
    "    deque1 = Deque()\n",
    "    deque2 = Deque()\n",
    "\n",
    "    with open(input_file, 'r', encoding='utf-8') as file:\n",
    "        for line in file:\n",
    "            books = line.strip().split()  \n",
    "            for book in books:\n",
    "                deque1.add_rear(book)\n",
    "\n",
    "    while not deque1.is_empty():\n",
    "        temp = deque1.remove_front()\n",
    "\n",
    "        while not deque2.is_empty() and deque2.items[-1] > temp:\n",
    "            deque1.add_front(deque2.remove_rear())\n",
    "\n",
    "        deque2.add_rear(temp)\n",
    "\n",
    "    with open(output_file, 'w', encoding='utf-8') as file:\n",
    "        while not deque2.is_empty():\n",
    "            book = deque2.remove_front()\n",
    "            print(book) \n",
    "            file.write(book + \" \")\n",
    "\n",
    "sort_books('titles.txt', 'sorted_titles.txt')"
   ]
  },
  {
   "cell_type": "markdown",
   "id": "49fbd2a0",
   "metadata": {
    "id": "49fbd2a0"
   },
   "source": [
    "### Задание №2\n",
    "Дек содержит последовательность символов для шифровки сообщений. Дан текстовый файл, содержащий зашифрованное сообщение. Пользуясь деком, расшифровать текст.\n",
    "Известно, что при шифровке каждый символ сообщения заменялся следующим за ним в деке по часовой стрелке через один."
   ]
  },
  {
   "cell_type": "code",
   "execution_count": 80,
   "id": "81cab7a8",
   "metadata": {
    "id": "81cab7a8"
   },
   "outputs": [
    {
     "name": "stdout",
     "output_type": "stream",
     "text": [
      "Расшифрованное сообщение: при\n"
     ]
    }
   ],
   "source": [
    "class CipherDeque(Deque):\n",
    "    def __init__(self, sequence):\n",
    "        super().__init__()\n",
    "        for char in sequence:\n",
    "            self.add_front(char)\n",
    "    \n",
    "\n",
    "    \n",
    "    # def decrypt_character(self, char):\n",
    "    #     j = 0\n",
    "    #     con = False\n",
    "    #     while ((k := self.remove_front()) != char) or (j != 2):\n",
    "    #         self.add_rear(k)\n",
    "    #         print(k)\n",
    "    #         if k == char:\n",
    "    #             con = True\n",
    "    #             j += 1\n",
    "    #             print(1)\n",
    "    #             continue\n",
    "    #         if con:\n",
    "    #             j += 1\n",
    "    #             print(j)\n",
    "    #             #self.add_rear(k)\n",
    "    #     # res = deque.pop()\n",
    "    #     # deque.add_rear(res)\n",
    "    #     return k\n",
    "\n",
    "    def decrypt_character(self, char):\n",
    "        j = 0\n",
    "        con = False\n",
    "        while j != 2:\n",
    "            k = self.remove_front()\n",
    "            self.add_rear(k)\n",
    "            if con:\n",
    "                j += 1\n",
    "                \n",
    "            if k == char:\n",
    "                con = True\n",
    "                \n",
    "                \n",
    "            \n",
    "                \n",
    "        # res = deque.pop()\n",
    "        # deque.add_rear(res)\n",
    "        return self.remove_rear() \n",
    "\n",
    "\n",
    "    \n",
    "            \n",
    "\n",
    "def decrypt_message(input_file, output_file, cipher_deque):\n",
    "    decrypted_text = \"\"\n",
    "    \n",
    "    with open(input_file, 'r', encoding='utf-8') as file:\n",
    "        encrypted_text = file.read()\n",
    "    \n",
    "    for char in encrypted_text:\n",
    "        decrypted_text += cipher_deque.decrypt_character(char)\n",
    "    \n",
    "    with open(output_file, 'w', encoding='utf-8') as file:\n",
    "        file.write(decrypted_text)\n",
    "    \n",
    "    print(\"Расшифрованное сообщение:\", decrypted_text)\n",
    "\n",
    "cipher_sequence = \"абвгдеёжзийклмнопрстуфхцчшщэюя0123456789 .,!?;:\"\n",
    "cipher_deque = CipherDeque(cipher_sequence)\n",
    "\n",
    "decrypt_message('encrypted.txt', 'decrypted.txt', cipher_deque)\n"
   ]
  },
  {
   "cell_type": "markdown",
   "id": "c0894f47",
   "metadata": {
    "id": "c0894f47"
   },
   "source": [
    "### Задание №3\n",
    "Даны три стержня и n дисков различного размера. Диски можно надевать на стержни, образуя из них башни. Перенести n дисков со стержня А на стержень С, сохранив их первоначальный порядок. При переносе дисков необходимо соблюдать следующие правила:\n",
    "- на каждом шаге со стержня на стержень переносить только один диск;\n",
    "- диск нельзя помещать на диск меньшего размера;\n",
    "- для промежуточного хранения можно использовать стержень В.\n",
    "Реализовать алгоритм, используя три стека вместо стержней А, В, С. Информация о дисках хранится в исходном файле."
   ]
  },
  {
   "cell_type": "code",
   "execution_count": 81,
   "id": "9e91a9d4",
   "metadata": {
    "id": "9e91a9d4"
   },
   "outputs": [
    {
     "name": "stdout",
     "output_type": "stream",
     "text": [
      "A: [1, 2, 3] B: [] C: [] \n",
      "\n",
      "A: [] B: [] C: [1, 2, 3]\n"
     ]
    }
   ],
   "source": [
    "def move_disk(source, target):\n",
    "    if source.is_empty():\n",
    "        return\n",
    "    disk = source.pop()\n",
    "    target.push(disk)\n",
    "\n",
    "def hanoi(n, source, auxiliary, target):\n",
    "    if n == 1:\n",
    "        move_disk(source, target)\n",
    "    else:\n",
    "        hanoi(n - 1, source, target, auxiliary) \n",
    "        move_disk(source, target)               \n",
    "        hanoi(n - 1, auxiliary, source, target)  \n",
    "\n",
    "def solve_hanoi_from_file(input_file):\n",
    "    with open(input_file, 'r', encoding='utf-8') as file:\n",
    "        disks = [int(line.strip()) for line in file.readlines()] \n",
    "\n",
    "    n = len(disks)\n",
    "    A = Stack(\"A\")\n",
    "    B = Stack(\"B\")\n",
    "    C = Stack(\"C\")\n",
    "\n",
    "    for disk in reversed(disks):\n",
    "        A.push(disk)\n",
    "\n",
    "    print(A, B, C, \"\\n\")\n",
    "\n",
    "    hanoi(n, A, B, C)\n",
    "\n",
    "    print(A, B, C)\n",
    "\n",
    "solve_hanoi_from_file('disks.txt')"
   ]
  },
  {
   "cell_type": "markdown",
   "id": "e5b0be17",
   "metadata": {
    "id": "e5b0be17"
   },
   "source": [
    "### Задание №4\n",
    "Дан текстовый файл с программой на алгоритмическом языке. За один просмотр файла проверить баланс круглых скобок в тексте, используя стек."
   ]
  },
  {
   "cell_type": "code",
   "execution_count": null,
   "id": "5b1df60a",
   "metadata": {
    "id": "5b1df60a"
   },
   "outputs": [],
   "source": []
  },
  {
   "cell_type": "markdown",
   "id": "c44cdd6b",
   "metadata": {
    "id": "c44cdd6b"
   },
   "source": [
    "### Задание №5\n",
    "Дан текстовый файл с программой на алгоритмическом языке. За один просмотр файла проверить баланс квадратных скобок в тексте, используя дек."
   ]
  },
  {
   "cell_type": "code",
   "execution_count": 82,
   "id": "36b8f400",
   "metadata": {
    "id": "36b8f400"
   },
   "outputs": [
    {
     "data": {
      "text/plain": [
       "True"
      ]
     },
     "execution_count": 82,
     "metadata": {},
     "output_type": "execute_result"
    }
   ],
   "source": [
    "def check_brackets_balance(filename):\n",
    "    stack = Stack(\"A\")\n",
    "    matching_brackets = {')': '(', '}': '{', ']': '['}\n",
    "\n",
    "    with open(filename, 'r', encoding='utf-8') as file:\n",
    "        for line in file: \n",
    "            for char in line: \n",
    "                if char in \"({[\":\n",
    "                    stack.push(char)  \n",
    "                elif char in \")}]\":\n",
    "                    if stack.is_empty() or stack.pop() != matching_brackets[char]:\n",
    "                        print(\"Ошибка\")\n",
    "                        return False\n",
    "                    \n",
    "    return True\n",
    "\n",
    "check_brackets_balance(\"xyz.txt\")"
   ]
  },
  {
   "cell_type": "markdown",
   "id": "59d13dc7",
   "metadata": {
    "id": "59d13dc7"
   },
   "source": [
    "### Задание №6\n",
    "Дан файл из символов. Используя стек, за один просмотр файла напечатать сначала все цифры, затем все буквы, и, наконец, все остальные символы, сохраняя исходный порядок в каждой группе символов."
   ]
  },
  {
   "cell_type": "code",
   "execution_count": 83,
   "id": "297e36c2",
   "metadata": {
    "id": "297e36c2"
   },
   "outputs": [
    {
     "name": "stdout",
     "output_type": "stream",
     "text": [
      "1\n",
      "1\n",
      "5\n",
      "6\n",
      "w\n",
      "h\n",
      "s\n",
      "h\n",
      "s\n",
      "a\n",
      "d\n",
      "c\n",
      "c\n",
      "d\n",
      "\n",
      "\n",
      "(\n",
      ")\n",
      "%\n",
      "\n",
      "\n",
      "^\n",
      "&\n",
      "$\n"
     ]
    }
   ],
   "source": [
    "def process_file(filename):\n",
    "    digits_stack = Stack(\"Digit\")\n",
    "    letters_stack = Stack(\"Letter\")\n",
    "    others_stack = Stack(\"Others\")\n",
    "    main_stack = Stack(\"Final\")\n",
    "\n",
    "    with open(filename, 'r', encoding='utf-8') as file:\n",
    "        for line in file:\n",
    "            for char in line:\n",
    "                if char.isdigit():\n",
    "                    digits_stack.push(char) \n",
    "                elif char.isalpha():\n",
    "                    letters_stack.push(char)  \n",
    "                else:\n",
    "                    others_stack.push(char)  \n",
    "\n",
    "    for current_stack in [others_stack, letters_stack, digits_stack]:\n",
    "        while not current_stack.is_empty():\n",
    "            main_stack.push(current_stack.pop())\n",
    "\n",
    "    while not main_stack.is_empty():\n",
    "        print(main_stack.pop())\n",
    "\n",
    "  \n",
    "process_file(\"input.txt\")  "
   ]
  },
  {
   "cell_type": "markdown",
   "id": "973f68bd",
   "metadata": {
    "id": "973f68bd"
   },
   "source": [
    "### Задание №7\n",
    "Дан файл из целых чисел. Используя дек, за один просмотр файла напечатать сначала все отрицательные числа, затем все положительные числа, сохраняя исходный порядок в каждой группе."
   ]
  },
  {
   "cell_type": "code",
   "execution_count": 84,
   "id": "c56fad66",
   "metadata": {
    "id": "c56fad66"
   },
   "outputs": [
    {
     "data": {
      "text/plain": [
       "'-1 -5 -7 3  222  332'"
      ]
     },
     "execution_count": 84,
     "metadata": {},
     "output_type": "execute_result"
    }
   ],
   "source": [
    "def Process_file(filename):\n",
    "    deque = Deque()\n",
    "   \n",
    "\n",
    "    with open(filename, 'r', encoding='utf-8') as file:\n",
    "        for line in file:\n",
    "            numbers = map(int, line.split())\n",
    "            for number in numbers:\n",
    "                if number < 0:\n",
    "                    deque.add_rear(str(number))  \n",
    "                elif number > 0:\n",
    "                    deque.add_front(str(number)) \n",
    "\n",
    "    # while not deque.is_empty():\n",
    "    #     print(deque.remove_front())\n",
    "    res = \"\"\n",
    "    while (int(k:= deque.remove_front())) > 0:\n",
    "        deque.add_rear(k)\n",
    "    deque.add_front(k)\n",
    "    while (int(k:= deque.remove_front())) < 0:\n",
    "        res += f'{k} '\n",
    "    deque.add_front(k)\n",
    "    while not deque.is_empty():\n",
    "        res += f'{deque.remove_rear()}  '\n",
    "\n",
    "    return res.strip()\n",
    "    print(deque)\n",
    "\n",
    "Process_file(\"1.txt\") "
   ]
  },
  {
   "cell_type": "markdown",
   "id": "b9228191",
   "metadata": {
    "id": "b9228191"
   },
   "source": [
    "### Задание №8\n",
    "Дан текстовый файл. Используя стек, сформировать новый текстовый файл, содержащий строки исходного файла, записанные в обратном порядке: первая строка становится последней, вторая – предпоследней и т.д."
   ]
  },
  {
   "cell_type": "code",
   "execution_count": 85,
   "id": "981fbdfe",
   "metadata": {
    "id": "981fbdfe"
   },
   "outputs": [],
   "source": [
    "def reverse_lines(input_file, output_file):\n",
    "    stack = Stack(\"A\")\n",
    "    with open(input_file, 'r', encoding='utf-8') as file:\n",
    "        for line in file:\n",
    "            stack.push(line.strip())\n",
    "    with open(output_file, 'w', encoding='utf-8') as outfile:\n",
    "        while not stack.is_empty():\n",
    "            outfile.write(stack.pop() + \"\\n\")\n",
    "\n",
    "reverse_lines(\"textForReverse.txt\", \"reversedText.txt\")"
   ]
  },
  {
   "cell_type": "markdown",
   "id": "rental-jerusalem",
   "metadata": {
    "id": "rental-jerusalem"
   },
   "source": [
    "### Вывод\n"
   ]
  },
  {
   "cell_type": "markdown",
   "id": "0c2b8899",
   "metadata": {
    "id": "0c2b8899"
   },
   "source": []
  },
  {
   "cell_type": "code",
   "execution_count": null,
   "id": "867a85ba-99d9-4ea7-9c42-7a0d75047c40",
   "metadata": {},
   "outputs": [],
   "source": []
  },
  {
   "cell_type": "code",
   "execution_count": null,
   "id": "a29083ab-8f95-4ce3-b12f-decbf999d538",
   "metadata": {},
   "outputs": [],
   "source": []
  }
 ],
 "metadata": {
  "colab": {
   "provenance": [
    {
     "file_id": "1SJnopeql2j1MhzcaJ8o68KaPzPnynIeK",
     "timestamp": 1676536264821
    }
   ]
  },
  "kernelspec": {
   "display_name": "Python 3 (ipykernel)",
   "language": "python",
   "name": "python3"
  },
  "language_info": {
   "codemirror_mode": {
    "name": "ipython",
    "version": 3
   },
   "file_extension": ".py",
   "mimetype": "text/x-python",
   "name": "python",
   "nbconvert_exporter": "python",
   "pygments_lexer": "ipython3",
   "version": "3.11.5"
  }
 },
 "nbformat": 4,
 "nbformat_minor": 5
}
